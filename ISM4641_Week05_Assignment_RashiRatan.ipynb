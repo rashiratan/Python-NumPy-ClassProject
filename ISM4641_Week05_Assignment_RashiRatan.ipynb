{
  "nbformat": 4,
  "nbformat_minor": 0,
  "metadata": {
    "colab": {
      "provenance": []
    },
    "kernelspec": {
      "name": "python3",
      "display_name": "Python 3"
    },
    "language_info": {
      "name": "python"
    }
  },
  "cells": [
    {
      "cell_type": "markdown",
      "source": [
        "#TechTrendz Retail Business Analysis Report\n",
        "A Comprehensive Case Study Using NumPy\n",
        "\n",
        "\\\n",
        "\n",
        "Author: Rashi Ratan \\\n",
        "Published: February 10, 2024\n",
        "\n",
        "\\\n",
        "\n",
        "TechTrendz Retail is a rapidly growing company that recently launched a new product line. As a Business Analytics intern at the company, I am tasked with creating a detailed analysis of the company's performance in three key areas:\n",
        "\n",
        "1. Sales Analysis: Evaluate the daily sales data by converting raw data into a NumPy array, applying a 10% discount, and computing aggregate statistics such as total, average, and standard deviation of the discounted sales.\n",
        "\n",
        "2. Inventory and Discount Analysis: Analyze a two-dimensional dataset that contains inventory counts and corresponding discount percentages for various product categories. Extract relevant columns, compute the total inventory, and use advanced slicing to isolate data for selected product groups.\n",
        "\n",
        "3. Sales Trend Analysis: Investigate how sales evolve over a week. Compute the cumulative sales and day-to-day differences, then identify days with significant increases in sales."
      ],
      "metadata": {
        "id": "qhJBXBNUE9Wj"
      }
    },
    {
      "cell_type": "markdown",
      "source": [
        "##Problem 1: Sales Analysis\n",
        "\n",
        "To analyzie the sales, I first imported the .csv file as a NumPy array. After this, I used a vectorized operation to calculated discounted sales array, using which I calculate key metrics."
      ],
      "metadata": {
        "id": "ZIjpILXg7S-q"
      }
    },
    {
      "cell_type": "code",
      "execution_count": 8,
      "metadata": {
        "colab": {
          "base_uri": "https://localhost:8080/"
        },
        "id": "rgKER9yB0bXb",
        "outputId": "8cc15008-d73b-417b-b315-617f0ccb6d47"
      },
      "outputs": [
        {
          "output_type": "stream",
          "name": "stdout",
          "text": [
            " Sales Array: [100. 150. 220. 280. 340. 400. 470.] \n",
            "\n",
            "Discounted Sales: [ 90. 135. 198. 252. 306. 360. 423.] \n",
            "\n",
            "Total Discounted Sales: 1764.00 \n",
            "\n",
            "Average Discounted Sales: 252.00 \n",
            "\n",
            "Standard Deviation of Discounted Sales: 111.27 \n",
            "\n"
          ]
        }
      ],
      "source": [
        "#import numpy\n",
        "import numpy as np\n",
        "\n",
        "#make sure to upload the files for each runtime\n",
        "#converting .csv file to NumPy array\n",
        "sales_csv = np.loadtxt(\"/content/drive/MyDrive/Colab Notebooks/sales.csv\", delimiter=\",\", skiprows=0)\n",
        "\n",
        "sales = np.array(sales_csv)\n",
        "print(f' Sales Array: {sales} \\n')\n",
        "#print to verify correct importing of data\n",
        "\n",
        "#calculating discounted sales\n",
        "discounted_sales = sales*0.9\n",
        "print(f\"Discounted Sales: {discounted_sales} \\n\")\n",
        "\n",
        "#calculate sum of discounted sales\n",
        "sum_discounted_sales = np.sum(discounted_sales)\n",
        "print(f\"Total Discounted Sales: {sum_discounted_sales:.2f} \\n\")\n",
        "\n",
        "#calculate average of discounted sales\n",
        "avg_discounted_sales = np.mean(discounted_sales)\n",
        "print(f\"Average Discounted Sales: {avg_discounted_sales:.2f} \\n\")\n",
        "\n",
        "#calculate standard deviation of discounted sales\n",
        "std_discounted_sales = np.std(discounted_sales)\n",
        "print(f\"Standard Deviation of Discounted Sales: {std_discounted_sales:.2f} \\n\")\n"
      ]
    },
    {
      "cell_type": "markdown",
      "source": [
        "###Report:\n",
        "Discounted Sales for the week are [90, 135, 198, 252, 306, 360, 423]. The total sales for the week are 1764 units. Average discounted sales per day amount to about 252 units per day, with a standard deviation of about 111 units. Therefore, there seems to be a considerable amount of variability in the sales everyday. This sales data would be helpful in spotting anomalies and diving deeper into the factors that may be influencing them.\n"
      ],
      "metadata": {
        "id": "sqk8lTG48MT4"
      }
    },
    {
      "cell_type": "markdown",
      "source": [
        "##Problem 2: Inventory and Discount Analysis\n",
        "\n",
        "After importing the data from the .csv file into an array, I analyzed the inventory and discount information by extracting the relevant columns and computing the total inventory. I also isolated the data for the first two product categories from the data array."
      ],
      "metadata": {
        "id": "X8KaNtCi9LQx"
      }
    },
    {
      "cell_type": "code",
      "source": [
        "#make sure to upload the files for each runtime\n",
        "#importing inventory data from .csv file\n",
        "inventory_csv = np.loadtxt(\"/content/drive/MyDrive/Colab Notebooks/inventory.csv\", delimiter=',', skiprows=0, dtype=int)\n",
        "\n",
        "# Inventory and discount data (rows: product categories, columns: [inventory, discount])\n",
        "data = np.array(inventory_csv)\n",
        "print(f'Inventory Data: {data} \\n')\n",
        "#print inventory to verify correct importing of data\n",
        "\n",
        "#extracting inventory counts and discounts\n",
        "inventory = data[:, 0]\n",
        "print(f'Inventories for all Product Categories: {inventory}')\n",
        "\n",
        "discount = data[:, 1]\n",
        "print(f'Discounts for all product categories: {discount}\\n')\n",
        "\n",
        "#computing total inventory\n",
        "total_inventory = int(np.sum(inventory))\n",
        "print(f'Total Inventory: {total_inventory} units')\n",
        "\n",
        "#submatrix for first two product categories\n",
        "submatrix = data[:2, :]\n",
        "print(f'Submatrix for first two product categories:\\n {submatrix}\\n')\n"
      ],
      "metadata": {
        "colab": {
          "base_uri": "https://localhost:8080/"
        },
        "id": "6c1ZsZgZ45R7",
        "outputId": "5bc145c1-eaef-4f8b-d7e6-193a459cbf1c"
      },
      "execution_count": 9,
      "outputs": [
        {
          "output_type": "stream",
          "name": "stdout",
          "text": [
            "Inventory Data: [[100  10]\n",
            " [150  15]\n",
            " [200  20]\n",
            " [250  25]\n",
            " [300  30]] \n",
            "\n",
            "Inventories for all Product Categories: [100 150 200 250 300]\n",
            "Discounts for all product categories: [10 15 20 25 30]\n",
            "\n",
            "Total Inventory: 1000 units\n",
            "Submatrix for first two product categories:\n",
            " [[100  10]\n",
            " [150  15]]\n",
            "\n"
          ]
        }
      ]
    },
    {
      "cell_type": "markdown",
      "source": [
        "###Report:\n",
        "The inventory counts for all the product categories are [100, 150, 200, 250, 300] with their corresponding discounts of [10, 15, 20, 25, 30]. The total inventory is 1000 units across all product categories. The data for the first two product categories is:\n",
        "```\n",
        " [[100  10]\n",
        " [150  15]]\n",
        "```\n",
        "An understanding of this is very important to be able to determine the influence of discounts on inventory turnover metrics.\n",
        "\n",
        "\n",
        "\n"
      ],
      "metadata": {
        "id": "MLapQQuO9zAH"
      }
    },
    {
      "cell_type": "markdown",
      "source": [
        "##Problem 3: Sales Trend Analysis\n",
        "\n",
        "To assess the sales trend, I computed the cumulative sales as well as the daily sales difference. Then, I filtered the differences to pinpoint days with an increase of more than 50 units."
      ],
      "metadata": {
        "id": "OdzJQeUbAEUs"
      }
    },
    {
      "cell_type": "code",
      "source": [
        "#display daily sales of the week\n",
        "daily_sales = sales\n",
        "print(f'Daily Sales: {daily_sales} \\n')\n",
        "\n",
        "#calculate cumulative sales for the week\n",
        "cumulative_sales = np.cumsum(sales)\n",
        "print(f'Cumulative Sales for the Week: {cumulative_sales}\\n')\n",
        "\n",
        "#calculate day-to-day differences in sales\n",
        "sales_diff = np.diff(sales)\n",
        "print(f'Day-to-day Differences in Sales: {sales_diff}\\n')\n",
        "\n",
        "# Filter for significant sales increases (difference > 50 units).\n",
        "significant_increase = sales_diff[sales_diff > 50]\n",
        "print(f'Significant Sales Increases (diff > 50): {significant_increase}\\n')"
      ],
      "metadata": {
        "colab": {
          "base_uri": "https://localhost:8080/"
        },
        "id": "k0ln2m5Y1R0y",
        "outputId": "53611b24-1321-48c1-de78-a2722b50856f"
      },
      "execution_count": 3,
      "outputs": [
        {
          "output_type": "stream",
          "name": "stdout",
          "text": [
            "Daily Sales: [100. 150. 220. 280. 340. 400. 470.] \n",
            "\n",
            "Cumulative Sales for the Week: [ 100.  250.  470.  750. 1090. 1490. 1960.]\n",
            "\n",
            "Day-to-day Differences in Sales: [50. 70. 60. 60. 60. 70.]\n",
            "\n",
            "Significant Sales Increases (diff > 50): [70. 60. 60. 60. 70.]\n",
            "\n"
          ]
        }
      ]
    },
    {
      "cell_type": "markdown",
      "source": [
        "###Report:\n",
        "The cumulative sales for the week were: [100, 250, 470, 750, 1090, 1490, 1960]. The day-to-day differences in sales were: [50, 70, 60, 60, 60, 70]. Significant increases in sales, of more than 50 units, are observed for multiple days. This helps to identify periods of peak or better performances and help in formulation of promotion strategies."
      ],
      "metadata": {
        "id": "Iw2put1zCj3Y"
      }
    },
    {
      "cell_type": "markdown",
      "source": [
        "##Conclusion:\n",
        "\n",
        "Using NumPy, this report has addressed key business areas of TechTrendz Retail. By analyzing the sales data, inventory information as well as sales trends, the report has made observations and developed actionable insights for the business to inform and support decision-making. The results indicate that sales in the company are moderately stable, but not stagnant. There have been significant increases on multiple days, showing even growth in the sales numbers. This would help with determining the inventory requirements for TechTrendz. Further investigation into the factors driving these trends is recommended.\n",
        "\n",
        "\\\n",
        "\n",
        "\n",
        "*Rashi Ratan* \\\n",
        "*Business Analytics Intern, TechTrendz Retail* \\\n",
        "*Dr. Tim C. Smith ©️2025*"
      ],
      "metadata": {
        "id": "1c4JBtK_DikW"
      }
    }
  ]
}